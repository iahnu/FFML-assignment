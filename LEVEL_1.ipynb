{
  "nbformat": 4,
  "nbformat_minor": 0,
  "metadata": {
    "colab": {
      "provenance": [],
      "authorship_tag": "ABX9TyPtJclMNlf22RoQ1oUSWxpU",
      "include_colab_link": true
    },
    "kernelspec": {
      "name": "python3",
      "display_name": "Python 3"
    },
    "language_info": {
      "name": "python"
    }
  },
  "cells": [
    {
      "cell_type": "markdown",
      "metadata": {
        "id": "view-in-github",
        "colab_type": "text"
      },
      "source": [
        "<a href=\"https://colab.research.google.com/github/iahnu/FFML-assignment/blob/main/LEVEL_1.ipynb\" target=\"_parent\"><img src=\"https://colab.research.google.com/assets/colab-badge.svg\" alt=\"Open In Colab\"/></a>"
      ]
    },
    {
      "cell_type": "markdown",
      "source": [
        "# TASK 1\n",
        "# DATA EXPLORATION AND  PREPROCESSING"
      ],
      "metadata": {
        "id": "1gCQrVtyuvdX"
      }
    },
    {
      "cell_type": "code",
      "execution_count": 2,
      "metadata": {
        "id": "mmCRGrz3wdGQ",
        "colab": {
          "base_uri": "https://localhost:8080/",
          "height": 73
        },
        "outputId": "92b2d84b-2fb6-4e77-88b5-024c8bec6bfd"
      },
      "outputs": [
        {
          "output_type": "display_data",
          "data": {
            "text/plain": [
              "<IPython.core.display.HTML object>"
            ],
            "text/html": [
              "\n",
              "     <input type=\"file\" id=\"files-189d16ff-92f4-415f-b251-a371df7c82e9\" name=\"files[]\" multiple disabled\n",
              "        style=\"border:none\" />\n",
              "     <output id=\"result-189d16ff-92f4-415f-b251-a371df7c82e9\">\n",
              "      Upload widget is only available when the cell has been executed in the\n",
              "      current browser session. Please rerun this cell to enable.\n",
              "      </output>\n",
              "      <script>// Copyright 2017 Google LLC\n",
              "//\n",
              "// Licensed under the Apache License, Version 2.0 (the \"License\");\n",
              "// you may not use this file except in compliance with the License.\n",
              "// You may obtain a copy of the License at\n",
              "//\n",
              "//      http://www.apache.org/licenses/LICENSE-2.0\n",
              "//\n",
              "// Unless required by applicable law or agreed to in writing, software\n",
              "// distributed under the License is distributed on an \"AS IS\" BASIS,\n",
              "// WITHOUT WARRANTIES OR CONDITIONS OF ANY KIND, either express or implied.\n",
              "// See the License for the specific language governing permissions and\n",
              "// limitations under the License.\n",
              "\n",
              "/**\n",
              " * @fileoverview Helpers for google.colab Python module.\n",
              " */\n",
              "(function(scope) {\n",
              "function span(text, styleAttributes = {}) {\n",
              "  const element = document.createElement('span');\n",
              "  element.textContent = text;\n",
              "  for (const key of Object.keys(styleAttributes)) {\n",
              "    element.style[key] = styleAttributes[key];\n",
              "  }\n",
              "  return element;\n",
              "}\n",
              "\n",
              "// Max number of bytes which will be uploaded at a time.\n",
              "const MAX_PAYLOAD_SIZE = 100 * 1024;\n",
              "\n",
              "function _uploadFiles(inputId, outputId) {\n",
              "  const steps = uploadFilesStep(inputId, outputId);\n",
              "  const outputElement = document.getElementById(outputId);\n",
              "  // Cache steps on the outputElement to make it available for the next call\n",
              "  // to uploadFilesContinue from Python.\n",
              "  outputElement.steps = steps;\n",
              "\n",
              "  return _uploadFilesContinue(outputId);\n",
              "}\n",
              "\n",
              "// This is roughly an async generator (not supported in the browser yet),\n",
              "// where there are multiple asynchronous steps and the Python side is going\n",
              "// to poll for completion of each step.\n",
              "// This uses a Promise to block the python side on completion of each step,\n",
              "// then passes the result of the previous step as the input to the next step.\n",
              "function _uploadFilesContinue(outputId) {\n",
              "  const outputElement = document.getElementById(outputId);\n",
              "  const steps = outputElement.steps;\n",
              "\n",
              "  const next = steps.next(outputElement.lastPromiseValue);\n",
              "  return Promise.resolve(next.value.promise).then((value) => {\n",
              "    // Cache the last promise value to make it available to the next\n",
              "    // step of the generator.\n",
              "    outputElement.lastPromiseValue = value;\n",
              "    return next.value.response;\n",
              "  });\n",
              "}\n",
              "\n",
              "/**\n",
              " * Generator function which is called between each async step of the upload\n",
              " * process.\n",
              " * @param {string} inputId Element ID of the input file picker element.\n",
              " * @param {string} outputId Element ID of the output display.\n",
              " * @return {!Iterable<!Object>} Iterable of next steps.\n",
              " */\n",
              "function* uploadFilesStep(inputId, outputId) {\n",
              "  const inputElement = document.getElementById(inputId);\n",
              "  inputElement.disabled = false;\n",
              "\n",
              "  const outputElement = document.getElementById(outputId);\n",
              "  outputElement.innerHTML = '';\n",
              "\n",
              "  const pickedPromise = new Promise((resolve) => {\n",
              "    inputElement.addEventListener('change', (e) => {\n",
              "      resolve(e.target.files);\n",
              "    });\n",
              "  });\n",
              "\n",
              "  const cancel = document.createElement('button');\n",
              "  inputElement.parentElement.appendChild(cancel);\n",
              "  cancel.textContent = 'Cancel upload';\n",
              "  const cancelPromise = new Promise((resolve) => {\n",
              "    cancel.onclick = () => {\n",
              "      resolve(null);\n",
              "    };\n",
              "  });\n",
              "\n",
              "  // Wait for the user to pick the files.\n",
              "  const files = yield {\n",
              "    promise: Promise.race([pickedPromise, cancelPromise]),\n",
              "    response: {\n",
              "      action: 'starting',\n",
              "    }\n",
              "  };\n",
              "\n",
              "  cancel.remove();\n",
              "\n",
              "  // Disable the input element since further picks are not allowed.\n",
              "  inputElement.disabled = true;\n",
              "\n",
              "  if (!files) {\n",
              "    return {\n",
              "      response: {\n",
              "        action: 'complete',\n",
              "      }\n",
              "    };\n",
              "  }\n",
              "\n",
              "  for (const file of files) {\n",
              "    const li = document.createElement('li');\n",
              "    li.append(span(file.name, {fontWeight: 'bold'}));\n",
              "    li.append(span(\n",
              "        `(${file.type || 'n/a'}) - ${file.size} bytes, ` +\n",
              "        `last modified: ${\n",
              "            file.lastModifiedDate ? file.lastModifiedDate.toLocaleDateString() :\n",
              "                                    'n/a'} - `));\n",
              "    const percent = span('0% done');\n",
              "    li.appendChild(percent);\n",
              "\n",
              "    outputElement.appendChild(li);\n",
              "\n",
              "    const fileDataPromise = new Promise((resolve) => {\n",
              "      const reader = new FileReader();\n",
              "      reader.onload = (e) => {\n",
              "        resolve(e.target.result);\n",
              "      };\n",
              "      reader.readAsArrayBuffer(file);\n",
              "    });\n",
              "    // Wait for the data to be ready.\n",
              "    let fileData = yield {\n",
              "      promise: fileDataPromise,\n",
              "      response: {\n",
              "        action: 'continue',\n",
              "      }\n",
              "    };\n",
              "\n",
              "    // Use a chunked sending to avoid message size limits. See b/62115660.\n",
              "    let position = 0;\n",
              "    do {\n",
              "      const length = Math.min(fileData.byteLength - position, MAX_PAYLOAD_SIZE);\n",
              "      const chunk = new Uint8Array(fileData, position, length);\n",
              "      position += length;\n",
              "\n",
              "      const base64 = btoa(String.fromCharCode.apply(null, chunk));\n",
              "      yield {\n",
              "        response: {\n",
              "          action: 'append',\n",
              "          file: file.name,\n",
              "          data: base64,\n",
              "        },\n",
              "      };\n",
              "\n",
              "      let percentDone = fileData.byteLength === 0 ?\n",
              "          100 :\n",
              "          Math.round((position / fileData.byteLength) * 100);\n",
              "      percent.textContent = `${percentDone}% done`;\n",
              "\n",
              "    } while (position < fileData.byteLength);\n",
              "  }\n",
              "\n",
              "  // All done.\n",
              "  yield {\n",
              "    response: {\n",
              "      action: 'complete',\n",
              "    }\n",
              "  };\n",
              "}\n",
              "\n",
              "scope.google = scope.google || {};\n",
              "scope.google.colab = scope.google.colab || {};\n",
              "scope.google.colab._files = {\n",
              "  _uploadFiles,\n",
              "  _uploadFilesContinue,\n",
              "};\n",
              "})(self);\n",
              "</script> "
            ]
          },
          "metadata": {}
        },
        {
          "output_type": "stream",
          "name": "stdout",
          "text": [
            "Saving Dataset.csv to Dataset.csv\n"
          ]
        }
      ],
      "source": [
        "from google.colab import files\n",
        "uploaded = files.upload()"
      ]
    },
    {
      "cell_type": "code",
      "source": [
        "import pandas as pd\n",
        "import matplotlib.pyplot as plt\n",
        "import numpy as np"
      ],
      "metadata": {
        "id": "eBOuRZdRW9JF"
      },
      "execution_count": 3,
      "outputs": []
    },
    {
      "cell_type": "code",
      "source": [
        "import pandas as pd\n",
        "df=pd.read_csv(\"Dataset.csv\")\n",
        "df"
      ],
      "metadata": {
        "id": "qTHQDYaJw4xa",
        "colab": {
          "base_uri": "https://localhost:8080/",
          "height": 1000
        },
        "outputId": "5bab1b0f-c633-44c9-8ca0-cea8b22da236"
      },
      "execution_count": 5,
      "outputs": [
        {
          "output_type": "execute_result",
          "data": {
            "text/plain": [
              "      Restaurant ID           Restaurant Name  Country Code              City  \\\n",
              "0           6317637          Le Petit Souffle           162       Makati City   \n",
              "1           6304287          Izakaya Kikufuji           162       Makati City   \n",
              "2           6300002    Heat - Edsa Shangri-La           162  Mandaluyong City   \n",
              "3           6318506                      Ooma           162  Mandaluyong City   \n",
              "4           6314302               Sambo Kojin           162  Mandaluyong City   \n",
              "...             ...                       ...           ...               ...   \n",
              "9546        5915730               Naml۱ Gurme           208         ��stanbul   \n",
              "9547        5908749              Ceviz A��ac۱           208         ��stanbul   \n",
              "9548        5915807                     Huqqa           208         ��stanbul   \n",
              "9549        5916112               A���k Kahve           208         ��stanbul   \n",
              "9550        5927402  Walter's Coffee Roastery           208         ��stanbul   \n",
              "\n",
              "                                                Address  \\\n",
              "0     Third Floor, Century City Mall, Kalayaan Avenu...   \n",
              "1     Little Tokyo, 2277 Chino Roces Avenue, Legaspi...   \n",
              "2     Edsa Shangri-La, 1 Garden Way, Ortigas, Mandal...   \n",
              "3     Third Floor, Mega Fashion Hall, SM Megamall, O...   \n",
              "4     Third Floor, Mega Atrium, SM Megamall, Ortigas...   \n",
              "...                                                 ...   \n",
              "9546  Kemanke�� Karamustafa Pa��a Mahallesi, R۱ht۱m ...   \n",
              "9547  Ko��uyolu Mahallesi, Muhittin ��st�_nda�� Cadd...   \n",
              "9548  Kuru�_e��me Mahallesi, Muallim Naci Caddesi, N...   \n",
              "9549  Kuru�_e��me Mahallesi, Muallim Naci Caddesi, N...   \n",
              "9550  Cafea��a Mahallesi, Bademalt۱ Sokak, No 21/B, ...   \n",
              "\n",
              "                                        Locality  \\\n",
              "0      Century City Mall, Poblacion, Makati City   \n",
              "1     Little Tokyo, Legaspi Village, Makati City   \n",
              "2     Edsa Shangri-La, Ortigas, Mandaluyong City   \n",
              "3         SM Megamall, Ortigas, Mandaluyong City   \n",
              "4         SM Megamall, Ortigas, Mandaluyong City   \n",
              "...                                          ...   \n",
              "9546                                    Karak�_y   \n",
              "9547                                   Ko��uyolu   \n",
              "9548                                 Kuru�_e��me   \n",
              "9549                                 Kuru�_e��me   \n",
              "9550                                        Moda   \n",
              "\n",
              "                                       Locality Verbose   Longitude  \\\n",
              "0     Century City Mall, Poblacion, Makati City, Mak...  121.027535   \n",
              "1     Little Tokyo, Legaspi Village, Makati City, Ma...  121.014101   \n",
              "2     Edsa Shangri-La, Ortigas, Mandaluyong City, Ma...  121.056831   \n",
              "3     SM Megamall, Ortigas, Mandaluyong City, Mandal...  121.056475   \n",
              "4     SM Megamall, Ortigas, Mandaluyong City, Mandal...  121.057508   \n",
              "...                                                 ...         ...   \n",
              "9546                                Karak�_y, ��stanbul   28.977392   \n",
              "9547                               Ko��uyolu, ��stanbul   29.041297   \n",
              "9548                             Kuru�_e��me, ��stanbul   29.034640   \n",
              "9549                             Kuru�_e��me, ��stanbul   29.036019   \n",
              "9550                                    Moda, ��stanbul   29.026016   \n",
              "\n",
              "       Latitude                          Cuisines  ...          Currency  \\\n",
              "0     14.565443        French, Japanese, Desserts  ...  Botswana Pula(P)   \n",
              "1     14.553708                          Japanese  ...  Botswana Pula(P)   \n",
              "2     14.581404  Seafood, Asian, Filipino, Indian  ...  Botswana Pula(P)   \n",
              "3     14.585318                   Japanese, Sushi  ...  Botswana Pula(P)   \n",
              "4     14.584450                  Japanese, Korean  ...  Botswana Pula(P)   \n",
              "...         ...                               ...  ...               ...   \n",
              "9546  41.022793                           Turkish  ...  Turkish Lira(TL)   \n",
              "9547  41.009847   World Cuisine, Patisserie, Cafe  ...  Turkish Lira(TL)   \n",
              "9548  41.055817            Italian, World Cuisine  ...  Turkish Lira(TL)   \n",
              "9549  41.057979                   Restaurant Cafe  ...  Turkish Lira(TL)   \n",
              "9550  40.984776                              Cafe  ...  Turkish Lira(TL)   \n",
              "\n",
              "     Has Table booking Has Online delivery Is delivering now  \\\n",
              "0                  Yes                  No                No   \n",
              "1                  Yes                  No                No   \n",
              "2                  Yes                  No                No   \n",
              "3                   No                  No                No   \n",
              "4                  Yes                  No                No   \n",
              "...                ...                 ...               ...   \n",
              "9546                No                  No                No   \n",
              "9547                No                  No                No   \n",
              "9548                No                  No                No   \n",
              "9549                No                  No                No   \n",
              "9550                No                  No                No   \n",
              "\n",
              "     Switch to order menu Price range  Aggregate rating  Rating color  \\\n",
              "0                      No           3               4.8    Dark Green   \n",
              "1                      No           3               4.5    Dark Green   \n",
              "2                      No           4               4.4         Green   \n",
              "3                      No           4               4.9    Dark Green   \n",
              "4                      No           4               4.8    Dark Green   \n",
              "...                   ...         ...               ...           ...   \n",
              "9546                   No           3               4.1         Green   \n",
              "9547                   No           3               4.2         Green   \n",
              "9548                   No           4               3.7        Yellow   \n",
              "9549                   No           4               4.0         Green   \n",
              "9550                   No           2               4.0         Green   \n",
              "\n",
              "     Rating text Votes  \n",
              "0      Excellent   314  \n",
              "1      Excellent   591  \n",
              "2      Very Good   270  \n",
              "3      Excellent   365  \n",
              "4      Excellent   229  \n",
              "...          ...   ...  \n",
              "9546   Very Good   788  \n",
              "9547   Very Good  1034  \n",
              "9548        Good   661  \n",
              "9549   Very Good   901  \n",
              "9550   Very Good   591  \n",
              "\n",
              "[9551 rows x 21 columns]"
            ],
            "text/html": [
              "\n",
              "\n",
              "  <div id=\"df-2a947b4c-7bda-4f08-81f0-d0052eda336a\">\n",
              "    <div class=\"colab-df-container\">\n",
              "      <div>\n",
              "<style scoped>\n",
              "    .dataframe tbody tr th:only-of-type {\n",
              "        vertical-align: middle;\n",
              "    }\n",
              "\n",
              "    .dataframe tbody tr th {\n",
              "        vertical-align: top;\n",
              "    }\n",
              "\n",
              "    .dataframe thead th {\n",
              "        text-align: right;\n",
              "    }\n",
              "</style>\n",
              "<table border=\"1\" class=\"dataframe\">\n",
              "  <thead>\n",
              "    <tr style=\"text-align: right;\">\n",
              "      <th></th>\n",
              "      <th>Restaurant ID</th>\n",
              "      <th>Restaurant Name</th>\n",
              "      <th>Country Code</th>\n",
              "      <th>City</th>\n",
              "      <th>Address</th>\n",
              "      <th>Locality</th>\n",
              "      <th>Locality Verbose</th>\n",
              "      <th>Longitude</th>\n",
              "      <th>Latitude</th>\n",
              "      <th>Cuisines</th>\n",
              "      <th>...</th>\n",
              "      <th>Currency</th>\n",
              "      <th>Has Table booking</th>\n",
              "      <th>Has Online delivery</th>\n",
              "      <th>Is delivering now</th>\n",
              "      <th>Switch to order menu</th>\n",
              "      <th>Price range</th>\n",
              "      <th>Aggregate rating</th>\n",
              "      <th>Rating color</th>\n",
              "      <th>Rating text</th>\n",
              "      <th>Votes</th>\n",
              "    </tr>\n",
              "  </thead>\n",
              "  <tbody>\n",
              "    <tr>\n",
              "      <th>0</th>\n",
              "      <td>6317637</td>\n",
              "      <td>Le Petit Souffle</td>\n",
              "      <td>162</td>\n",
              "      <td>Makati City</td>\n",
              "      <td>Third Floor, Century City Mall, Kalayaan Avenu...</td>\n",
              "      <td>Century City Mall, Poblacion, Makati City</td>\n",
              "      <td>Century City Mall, Poblacion, Makati City, Mak...</td>\n",
              "      <td>121.027535</td>\n",
              "      <td>14.565443</td>\n",
              "      <td>French, Japanese, Desserts</td>\n",
              "      <td>...</td>\n",
              "      <td>Botswana Pula(P)</td>\n",
              "      <td>Yes</td>\n",
              "      <td>No</td>\n",
              "      <td>No</td>\n",
              "      <td>No</td>\n",
              "      <td>3</td>\n",
              "      <td>4.8</td>\n",
              "      <td>Dark Green</td>\n",
              "      <td>Excellent</td>\n",
              "      <td>314</td>\n",
              "    </tr>\n",
              "    <tr>\n",
              "      <th>1</th>\n",
              "      <td>6304287</td>\n",
              "      <td>Izakaya Kikufuji</td>\n",
              "      <td>162</td>\n",
              "      <td>Makati City</td>\n",
              "      <td>Little Tokyo, 2277 Chino Roces Avenue, Legaspi...</td>\n",
              "      <td>Little Tokyo, Legaspi Village, Makati City</td>\n",
              "      <td>Little Tokyo, Legaspi Village, Makati City, Ma...</td>\n",
              "      <td>121.014101</td>\n",
              "      <td>14.553708</td>\n",
              "      <td>Japanese</td>\n",
              "      <td>...</td>\n",
              "      <td>Botswana Pula(P)</td>\n",
              "      <td>Yes</td>\n",
              "      <td>No</td>\n",
              "      <td>No</td>\n",
              "      <td>No</td>\n",
              "      <td>3</td>\n",
              "      <td>4.5</td>\n",
              "      <td>Dark Green</td>\n",
              "      <td>Excellent</td>\n",
              "      <td>591</td>\n",
              "    </tr>\n",
              "    <tr>\n",
              "      <th>2</th>\n",
              "      <td>6300002</td>\n",
              "      <td>Heat - Edsa Shangri-La</td>\n",
              "      <td>162</td>\n",
              "      <td>Mandaluyong City</td>\n",
              "      <td>Edsa Shangri-La, 1 Garden Way, Ortigas, Mandal...</td>\n",
              "      <td>Edsa Shangri-La, Ortigas, Mandaluyong City</td>\n",
              "      <td>Edsa Shangri-La, Ortigas, Mandaluyong City, Ma...</td>\n",
              "      <td>121.056831</td>\n",
              "      <td>14.581404</td>\n",
              "      <td>Seafood, Asian, Filipino, Indian</td>\n",
              "      <td>...</td>\n",
              "      <td>Botswana Pula(P)</td>\n",
              "      <td>Yes</td>\n",
              "      <td>No</td>\n",
              "      <td>No</td>\n",
              "      <td>No</td>\n",
              "      <td>4</td>\n",
              "      <td>4.4</td>\n",
              "      <td>Green</td>\n",
              "      <td>Very Good</td>\n",
              "      <td>270</td>\n",
              "    </tr>\n",
              "    <tr>\n",
              "      <th>3</th>\n",
              "      <td>6318506</td>\n",
              "      <td>Ooma</td>\n",
              "      <td>162</td>\n",
              "      <td>Mandaluyong City</td>\n",
              "      <td>Third Floor, Mega Fashion Hall, SM Megamall, O...</td>\n",
              "      <td>SM Megamall, Ortigas, Mandaluyong City</td>\n",
              "      <td>SM Megamall, Ortigas, Mandaluyong City, Mandal...</td>\n",
              "      <td>121.056475</td>\n",
              "      <td>14.585318</td>\n",
              "      <td>Japanese, Sushi</td>\n",
              "      <td>...</td>\n",
              "      <td>Botswana Pula(P)</td>\n",
              "      <td>No</td>\n",
              "      <td>No</td>\n",
              "      <td>No</td>\n",
              "      <td>No</td>\n",
              "      <td>4</td>\n",
              "      <td>4.9</td>\n",
              "      <td>Dark Green</td>\n",
              "      <td>Excellent</td>\n",
              "      <td>365</td>\n",
              "    </tr>\n",
              "    <tr>\n",
              "      <th>4</th>\n",
              "      <td>6314302</td>\n",
              "      <td>Sambo Kojin</td>\n",
              "      <td>162</td>\n",
              "      <td>Mandaluyong City</td>\n",
              "      <td>Third Floor, Mega Atrium, SM Megamall, Ortigas...</td>\n",
              "      <td>SM Megamall, Ortigas, Mandaluyong City</td>\n",
              "      <td>SM Megamall, Ortigas, Mandaluyong City, Mandal...</td>\n",
              "      <td>121.057508</td>\n",
              "      <td>14.584450</td>\n",
              "      <td>Japanese, Korean</td>\n",
              "      <td>...</td>\n",
              "      <td>Botswana Pula(P)</td>\n",
              "      <td>Yes</td>\n",
              "      <td>No</td>\n",
              "      <td>No</td>\n",
              "      <td>No</td>\n",
              "      <td>4</td>\n",
              "      <td>4.8</td>\n",
              "      <td>Dark Green</td>\n",
              "      <td>Excellent</td>\n",
              "      <td>229</td>\n",
              "    </tr>\n",
              "    <tr>\n",
              "      <th>...</th>\n",
              "      <td>...</td>\n",
              "      <td>...</td>\n",
              "      <td>...</td>\n",
              "      <td>...</td>\n",
              "      <td>...</td>\n",
              "      <td>...</td>\n",
              "      <td>...</td>\n",
              "      <td>...</td>\n",
              "      <td>...</td>\n",
              "      <td>...</td>\n",
              "      <td>...</td>\n",
              "      <td>...</td>\n",
              "      <td>...</td>\n",
              "      <td>...</td>\n",
              "      <td>...</td>\n",
              "      <td>...</td>\n",
              "      <td>...</td>\n",
              "      <td>...</td>\n",
              "      <td>...</td>\n",
              "      <td>...</td>\n",
              "      <td>...</td>\n",
              "    </tr>\n",
              "    <tr>\n",
              "      <th>9546</th>\n",
              "      <td>5915730</td>\n",
              "      <td>Naml۱ Gurme</td>\n",
              "      <td>208</td>\n",
              "      <td>��stanbul</td>\n",
              "      <td>Kemanke�� Karamustafa Pa��a Mahallesi, R۱ht۱m ...</td>\n",
              "      <td>Karak�_y</td>\n",
              "      <td>Karak�_y, ��stanbul</td>\n",
              "      <td>28.977392</td>\n",
              "      <td>41.022793</td>\n",
              "      <td>Turkish</td>\n",
              "      <td>...</td>\n",
              "      <td>Turkish Lira(TL)</td>\n",
              "      <td>No</td>\n",
              "      <td>No</td>\n",
              "      <td>No</td>\n",
              "      <td>No</td>\n",
              "      <td>3</td>\n",
              "      <td>4.1</td>\n",
              "      <td>Green</td>\n",
              "      <td>Very Good</td>\n",
              "      <td>788</td>\n",
              "    </tr>\n",
              "    <tr>\n",
              "      <th>9547</th>\n",
              "      <td>5908749</td>\n",
              "      <td>Ceviz A��ac۱</td>\n",
              "      <td>208</td>\n",
              "      <td>��stanbul</td>\n",
              "      <td>Ko��uyolu Mahallesi, Muhittin ��st�_nda�� Cadd...</td>\n",
              "      <td>Ko��uyolu</td>\n",
              "      <td>Ko��uyolu, ��stanbul</td>\n",
              "      <td>29.041297</td>\n",
              "      <td>41.009847</td>\n",
              "      <td>World Cuisine, Patisserie, Cafe</td>\n",
              "      <td>...</td>\n",
              "      <td>Turkish Lira(TL)</td>\n",
              "      <td>No</td>\n",
              "      <td>No</td>\n",
              "      <td>No</td>\n",
              "      <td>No</td>\n",
              "      <td>3</td>\n",
              "      <td>4.2</td>\n",
              "      <td>Green</td>\n",
              "      <td>Very Good</td>\n",
              "      <td>1034</td>\n",
              "    </tr>\n",
              "    <tr>\n",
              "      <th>9548</th>\n",
              "      <td>5915807</td>\n",
              "      <td>Huqqa</td>\n",
              "      <td>208</td>\n",
              "      <td>��stanbul</td>\n",
              "      <td>Kuru�_e��me Mahallesi, Muallim Naci Caddesi, N...</td>\n",
              "      <td>Kuru�_e��me</td>\n",
              "      <td>Kuru�_e��me, ��stanbul</td>\n",
              "      <td>29.034640</td>\n",
              "      <td>41.055817</td>\n",
              "      <td>Italian, World Cuisine</td>\n",
              "      <td>...</td>\n",
              "      <td>Turkish Lira(TL)</td>\n",
              "      <td>No</td>\n",
              "      <td>No</td>\n",
              "      <td>No</td>\n",
              "      <td>No</td>\n",
              "      <td>4</td>\n",
              "      <td>3.7</td>\n",
              "      <td>Yellow</td>\n",
              "      <td>Good</td>\n",
              "      <td>661</td>\n",
              "    </tr>\n",
              "    <tr>\n",
              "      <th>9549</th>\n",
              "      <td>5916112</td>\n",
              "      <td>A���k Kahve</td>\n",
              "      <td>208</td>\n",
              "      <td>��stanbul</td>\n",
              "      <td>Kuru�_e��me Mahallesi, Muallim Naci Caddesi, N...</td>\n",
              "      <td>Kuru�_e��me</td>\n",
              "      <td>Kuru�_e��me, ��stanbul</td>\n",
              "      <td>29.036019</td>\n",
              "      <td>41.057979</td>\n",
              "      <td>Restaurant Cafe</td>\n",
              "      <td>...</td>\n",
              "      <td>Turkish Lira(TL)</td>\n",
              "      <td>No</td>\n",
              "      <td>No</td>\n",
              "      <td>No</td>\n",
              "      <td>No</td>\n",
              "      <td>4</td>\n",
              "      <td>4.0</td>\n",
              "      <td>Green</td>\n",
              "      <td>Very Good</td>\n",
              "      <td>901</td>\n",
              "    </tr>\n",
              "    <tr>\n",
              "      <th>9550</th>\n",
              "      <td>5927402</td>\n",
              "      <td>Walter's Coffee Roastery</td>\n",
              "      <td>208</td>\n",
              "      <td>��stanbul</td>\n",
              "      <td>Cafea��a Mahallesi, Bademalt۱ Sokak, No 21/B, ...</td>\n",
              "      <td>Moda</td>\n",
              "      <td>Moda, ��stanbul</td>\n",
              "      <td>29.026016</td>\n",
              "      <td>40.984776</td>\n",
              "      <td>Cafe</td>\n",
              "      <td>...</td>\n",
              "      <td>Turkish Lira(TL)</td>\n",
              "      <td>No</td>\n",
              "      <td>No</td>\n",
              "      <td>No</td>\n",
              "      <td>No</td>\n",
              "      <td>2</td>\n",
              "      <td>4.0</td>\n",
              "      <td>Green</td>\n",
              "      <td>Very Good</td>\n",
              "      <td>591</td>\n",
              "    </tr>\n",
              "  </tbody>\n",
              "</table>\n",
              "<p>9551 rows × 21 columns</p>\n",
              "</div>\n",
              "      <button class=\"colab-df-convert\" onclick=\"convertToInteractive('df-2a947b4c-7bda-4f08-81f0-d0052eda336a')\"\n",
              "              title=\"Convert this dataframe to an interactive table.\"\n",
              "              style=\"display:none;\">\n",
              "\n",
              "  <svg xmlns=\"http://www.w3.org/2000/svg\" height=\"24px\"viewBox=\"0 0 24 24\"\n",
              "       width=\"24px\">\n",
              "    <path d=\"M0 0h24v24H0V0z\" fill=\"none\"/>\n",
              "    <path d=\"M18.56 5.44l.94 2.06.94-2.06 2.06-.94-2.06-.94-.94-2.06-.94 2.06-2.06.94zm-11 1L8.5 8.5l.94-2.06 2.06-.94-2.06-.94L8.5 2.5l-.94 2.06-2.06.94zm10 10l.94 2.06.94-2.06 2.06-.94-2.06-.94-.94-2.06-.94 2.06-2.06.94z\"/><path d=\"M17.41 7.96l-1.37-1.37c-.4-.4-.92-.59-1.43-.59-.52 0-1.04.2-1.43.59L10.3 9.45l-7.72 7.72c-.78.78-.78 2.05 0 2.83L4 21.41c.39.39.9.59 1.41.59.51 0 1.02-.2 1.41-.59l7.78-7.78 2.81-2.81c.8-.78.8-2.07 0-2.86zM5.41 20L4 18.59l7.72-7.72 1.47 1.35L5.41 20z\"/>\n",
              "  </svg>\n",
              "      </button>\n",
              "\n",
              "\n",
              "\n",
              "    <div id=\"df-78d04d64-7340-4a66-b0ec-9ac2d353d9ed\">\n",
              "      <button class=\"colab-df-quickchart\" onclick=\"quickchart('df-78d04d64-7340-4a66-b0ec-9ac2d353d9ed')\"\n",
              "              title=\"Suggest charts.\"\n",
              "              style=\"display:none;\">\n",
              "\n",
              "<svg xmlns=\"http://www.w3.org/2000/svg\" height=\"24px\"viewBox=\"0 0 24 24\"\n",
              "     width=\"24px\">\n",
              "    <g>\n",
              "        <path d=\"M19 3H5c-1.1 0-2 .9-2 2v14c0 1.1.9 2 2 2h14c1.1 0 2-.9 2-2V5c0-1.1-.9-2-2-2zM9 17H7v-7h2v7zm4 0h-2V7h2v10zm4 0h-2v-4h2v4z\"/>\n",
              "    </g>\n",
              "</svg>\n",
              "      </button>\n",
              "    </div>\n",
              "\n",
              "<style>\n",
              "  .colab-df-quickchart {\n",
              "    background-color: #E8F0FE;\n",
              "    border: none;\n",
              "    border-radius: 50%;\n",
              "    cursor: pointer;\n",
              "    display: none;\n",
              "    fill: #1967D2;\n",
              "    height: 32px;\n",
              "    padding: 0 0 0 0;\n",
              "    width: 32px;\n",
              "  }\n",
              "\n",
              "  .colab-df-quickchart:hover {\n",
              "    background-color: #E2EBFA;\n",
              "    box-shadow: 0px 1px 2px rgba(60, 64, 67, 0.3), 0px 1px 3px 1px rgba(60, 64, 67, 0.15);\n",
              "    fill: #174EA6;\n",
              "  }\n",
              "\n",
              "  [theme=dark] .colab-df-quickchart {\n",
              "    background-color: #3B4455;\n",
              "    fill: #D2E3FC;\n",
              "  }\n",
              "\n",
              "  [theme=dark] .colab-df-quickchart:hover {\n",
              "    background-color: #434B5C;\n",
              "    box-shadow: 0px 1px 3px 1px rgba(0, 0, 0, 0.15);\n",
              "    filter: drop-shadow(0px 1px 2px rgba(0, 0, 0, 0.3));\n",
              "    fill: #FFFFFF;\n",
              "  }\n",
              "</style>\n",
              "\n",
              "    <script>\n",
              "      async function quickchart(key) {\n",
              "        const containerElement = document.querySelector('#' + key);\n",
              "        const charts = await google.colab.kernel.invokeFunction(\n",
              "            'suggestCharts', [key], {});\n",
              "      }\n",
              "    </script>\n",
              "\n",
              "      <script>\n",
              "\n",
              "function displayQuickchartButton(domScope) {\n",
              "  let quickchartButtonEl =\n",
              "    domScope.querySelector('#df-78d04d64-7340-4a66-b0ec-9ac2d353d9ed button.colab-df-quickchart');\n",
              "  quickchartButtonEl.style.display =\n",
              "    google.colab.kernel.accessAllowed ? 'block' : 'none';\n",
              "}\n",
              "\n",
              "        displayQuickchartButton(document);\n",
              "      </script>\n",
              "      <style>\n",
              "    .colab-df-container {\n",
              "      display:flex;\n",
              "      flex-wrap:wrap;\n",
              "      gap: 12px;\n",
              "    }\n",
              "\n",
              "    .colab-df-convert {\n",
              "      background-color: #E8F0FE;\n",
              "      border: none;\n",
              "      border-radius: 50%;\n",
              "      cursor: pointer;\n",
              "      display: none;\n",
              "      fill: #1967D2;\n",
              "      height: 32px;\n",
              "      padding: 0 0 0 0;\n",
              "      width: 32px;\n",
              "    }\n",
              "\n",
              "    .colab-df-convert:hover {\n",
              "      background-color: #E2EBFA;\n",
              "      box-shadow: 0px 1px 2px rgba(60, 64, 67, 0.3), 0px 1px 3px 1px rgba(60, 64, 67, 0.15);\n",
              "      fill: #174EA6;\n",
              "    }\n",
              "\n",
              "    [theme=dark] .colab-df-convert {\n",
              "      background-color: #3B4455;\n",
              "      fill: #D2E3FC;\n",
              "    }\n",
              "\n",
              "    [theme=dark] .colab-df-convert:hover {\n",
              "      background-color: #434B5C;\n",
              "      box-shadow: 0px 1px 3px 1px rgba(0, 0, 0, 0.15);\n",
              "      filter: drop-shadow(0px 1px 2px rgba(0, 0, 0, 0.3));\n",
              "      fill: #FFFFFF;\n",
              "    }\n",
              "  </style>\n",
              "\n",
              "      <script>\n",
              "        const buttonEl =\n",
              "          document.querySelector('#df-2a947b4c-7bda-4f08-81f0-d0052eda336a button.colab-df-convert');\n",
              "        buttonEl.style.display =\n",
              "          google.colab.kernel.accessAllowed ? 'block' : 'none';\n",
              "\n",
              "        async function convertToInteractive(key) {\n",
              "          const element = document.querySelector('#df-2a947b4c-7bda-4f08-81f0-d0052eda336a');\n",
              "          const dataTable =\n",
              "            await google.colab.kernel.invokeFunction('convertToInteractive',\n",
              "                                                     [key], {});\n",
              "          if (!dataTable) return;\n",
              "\n",
              "          const docLinkHtml = 'Like what you see? Visit the ' +\n",
              "            '<a target=\"_blank\" href=https://colab.research.google.com/notebooks/data_table.ipynb>data table notebook</a>'\n",
              "            + ' to learn more about interactive tables.';\n",
              "          element.innerHTML = '';\n",
              "          dataTable['output_type'] = 'display_data';\n",
              "          await google.colab.output.renderOutput(dataTable, element);\n",
              "          const docLink = document.createElement('div');\n",
              "          docLink.innerHTML = docLinkHtml;\n",
              "          element.appendChild(docLink);\n",
              "        }\n",
              "      </script>\n",
              "    </div>\n",
              "  </div>\n"
            ]
          },
          "metadata": {},
          "execution_count": 5
        }
      ]
    },
    {
      "cell_type": "markdown",
      "source": [
        "# identify the number of rows and number of columns"
      ],
      "metadata": {
        "id": "_m0IdYTMZXNp"
      }
    },
    {
      "cell_type": "code",
      "source": [
        "len(df.index)"
      ],
      "metadata": {
        "id": "ixJ9-pcQw89o",
        "colab": {
          "base_uri": "https://localhost:8080/"
        },
        "outputId": "b47429d3-b825-4fab-f33d-6fa0b48a257a"
      },
      "execution_count": 6,
      "outputs": [
        {
          "output_type": "execute_result",
          "data": {
            "text/plain": [
              "9551"
            ]
          },
          "metadata": {},
          "execution_count": 6
        }
      ]
    },
    {
      "cell_type": "code",
      "source": [
        "df.shape\n",
        "row,col =df.shape\n",
        "print(f\"num of rows= {row}\")\n",
        "print(f\"num of col= {col}\")"
      ],
      "metadata": {
        "colab": {
          "base_uri": "https://localhost:8080/"
        },
        "id": "PkC6JzvkY2dS",
        "outputId": "38d29a17-c4ef-401e-f4b3-862214910a77"
      },
      "execution_count": 19,
      "outputs": [
        {
          "output_type": "stream",
          "name": "stdout",
          "text": [
            "num of rows= 9542\n",
            "num of col= 21\n"
          ]
        }
      ]
    },
    {
      "cell_type": "markdown",
      "source": [
        "# missing values"
      ],
      "metadata": {
        "id": "hLqRiI7-aQkZ"
      }
    },
    {
      "cell_type": "code",
      "source": [
        "miss_val=df.isnull().sum()\n",
        "print(\"missing values=\")\n",
        "print(miss_val)\n",
        "print(df.dtypes)"
      ],
      "metadata": {
        "colab": {
          "base_uri": "https://localhost:8080/"
        },
        "id": "ta4zMl6uY2pN",
        "outputId": "709556da-b5b2-4f4c-e1e0-b6ce050d4ae2"
      },
      "execution_count": 26,
      "outputs": [
        {
          "output_type": "stream",
          "name": "stdout",
          "text": [
            "missing values=\n",
            "Restaurant ID           0\n",
            "Restaurant Name         0\n",
            "Country Code            0\n",
            "City                    0\n",
            "Address                 0\n",
            "Locality                0\n",
            "Locality Verbose        0\n",
            "Longitude               0\n",
            "Latitude                0\n",
            "Cuisines                0\n",
            "Average Cost for two    0\n",
            "Currency                0\n",
            "Has Table booking       0\n",
            "Has Online delivery     0\n",
            "Is delivering now       0\n",
            "Switch to order menu    0\n",
            "Price range             0\n",
            "Aggregate rating        0\n",
            "Rating color            0\n",
            "Rating text             0\n",
            "Votes                   0\n",
            "dtype: int64\n",
            "Restaurant ID             int64\n",
            "Restaurant Name          object\n",
            "Country Code              int64\n",
            "City                     object\n",
            "Address                  object\n",
            "Locality                 object\n",
            "Locality Verbose         object\n",
            "Longitude               float64\n",
            "Latitude                float64\n",
            "Cuisines                 object\n",
            "Average Cost for two      int64\n",
            "Currency                 object\n",
            "Has Table booking        object\n",
            "Has Online delivery      object\n",
            "Is delivering now        object\n",
            "Switch to order menu     object\n",
            "Price range               int64\n",
            "Aggregate rating        float64\n",
            "Rating color             object\n",
            "Rating text              object\n",
            "Votes                     int64\n",
            "dtype: object\n"
          ]
        }
      ]
    },
    {
      "cell_type": "markdown",
      "source": [
        "# the target variable and distribution of aggregate rating:"
      ],
      "metadata": {
        "id": "3u--N4cJcZeE"
      }
    },
    {
      "cell_type": "code",
      "source": [
        "target=df['Aggregate rating'].value_counts()\n",
        "print(target)\n"
      ],
      "metadata": {
        "colab": {
          "base_uri": "https://localhost:8080/"
        },
        "id": "oT3992QMZ9ME",
        "outputId": "80eb8ffe-1d73-4479-94e5-4aa307b8a440"
      },
      "execution_count": 36,
      "outputs": [
        {
          "output_type": "stream",
          "name": "stdout",
          "text": [
            "0.0    2148\n",
            "3.2     522\n",
            "3.1     519\n",
            "3.4     495\n",
            "3.3     483\n",
            "3.5     480\n",
            "3.0     468\n",
            "3.6     458\n",
            "3.7     427\n",
            "3.8     399\n",
            "2.9     381\n",
            "3.9     332\n",
            "2.8     315\n",
            "4.1     274\n",
            "4.0     266\n",
            "2.7     250\n",
            "4.2     221\n",
            "2.6     191\n",
            "4.3     174\n",
            "4.4     143\n",
            "2.5     110\n",
            "4.5      95\n",
            "2.4      87\n",
            "4.6      78\n",
            "4.9      61\n",
            "2.3      47\n",
            "4.7      41\n",
            "2.2      27\n",
            "4.8      25\n",
            "2.1      15\n",
            "2.0       7\n",
            "1.9       2\n",
            "1.8       1\n",
            "Name: Aggregate rating, dtype: int64\n"
          ]
        }
      ]
    },
    {
      "cell_type": "code",
      "source": [
        "target.plot(kind=\"bar\")\n",
        "plt.title(\"DISTRIBUTION OF AGGREGATE RATING\")\n",
        "plt.xlabel(\"Aggregate rating\")\n",
        "plt.ylabel(\"Target counts\")\n",
        "plt.show()"
      ],
      "metadata": {
        "colab": {
          "base_uri": "https://localhost:8080/",
          "height": 480
        },
        "id": "UsYhAew0f3Lv",
        "outputId": "41704ffb-0615-48b0-8845-357c74a984b1"
      },
      "execution_count": 39,
      "outputs": [
        {
          "output_type": "display_data",
          "data": {
            "text/plain": [
              "<Figure size 640x480 with 1 Axes>"
            ],
            "image/png": "[encoded data removed]"
          },
          "metadata": {}
        }
      ]
    },
    {
      "cell_type": "markdown",
      "source": [
        "# identify all classes are inbalances"
      ],
      "metadata": {
        "id": "oWf28wpjomS7"
      }
    },
    {
      "cell_type": "code",
      "source": [
        "class_imbalances={}\n",
        "\n",
        "for class_value,count in target.iteritems():\n",
        "  percentage=(count/target.sum()) *100\n",
        "  class_imbalance[class_value]=percentage\n",
        "print(class_imbalance)\n",
        "for class_value, imbalance in class_imbalances.items():\n",
        "  print(class_value)\n"
      ],
      "metadata": {
        "colab": {
          "base_uri": "https://localhost:8080/"
        },
        "id": "yNEOxbc6lyE4",
        "outputId": "2671f879-d19c-4e30-bd57-1bc8061597cf"
      },
      "execution_count": 51,
      "outputs": [
        {
          "output_type": "stream",
          "name": "stdout",
          "text": [
            "{0.0: 22.51100398239363, 3.2: 5.470551247118005, 3.1: 5.439111297421924, 3.4: 5.18759169985328, 3.3: 5.061831901068958, 3.5: 5.030391951372878, 3.0: 4.904632152588556, 3.6: 4.799832320268287, 3.7: 4.4749528400754555, 3.8: 4.181513309578705, 2.9: 3.9928736114022216, 3.9: 3.479354433032907, 2.8: 3.3011947180884507, 4.1: 2.871515405575351, 4.0: 2.7876755397191366, 2.7: 2.619995808006707, 4.2: 2.316076294277929, 2.6: 2.001676797317124, 4.3: 1.8235170823726683, 4.4: 1.4986376021798364, 2.5: 1.1527981555229512, 4.5: 0.9955984070425488, 2.4: 0.9117585411863341, 4.6: 0.8174386920980926, 4.9: 0.6392789771536366, 2.3: 0.4925592119052609, 4.7: 0.42967931251309993, 2.2: 0.2829595472647244, 4.8: 0.2619995808006707, 2.1: 0.15719974848040244, 2.0: 0.0733598826241878, 1.9: 0.020959966464053657, 1.8: 0.010479983232026828}\n"
          ]
        },
        {
          "output_type": "stream",
          "name": "stderr",
          "text": [
            "<ipython-input-51-5e33cca0f2cf>:3: FutureWarning: iteritems is deprecated and will be removed in a future version. Use .items instead.\n",
            "  for class_value,count in target.iteritems():\n"
          ]
        }
      ]
    },
    {
      "cell_type": "code",
      "source": [],
      "metadata": {
        "id": "P4ObTnP2kGPj"
      },
      "execution_count": 58,
      "outputs": []
    },
    {
      "cell_type": "markdown",
      "source": [
        "#TASK 2\n",
        "DESCRIPTIVE ANALYSIS"
      ],
      "metadata": {
        "id": "E5isfEYCqCX3"
      }
    },
    {
      "cell_type": "markdown",
      "source": [
        "# CALCULATION\n",
        "Calculate basic statistical measures\n",
        "   * mean\n",
        "   * median\n",
        "   * standard deviation\n",
        "  for columns"
      ],
      "metadata": {
        "id": "sebB3xPbqaVc"
      }
    },
    {
      "cell_type": "code",
      "source": [
        "numerical=df.select_dtypes(\"number\")\n",
        "\n",
        "#these numerical values can be stored in numerical variable"
      ],
      "metadata": {
        "id": "qp3RUncYrpca"
      },
      "execution_count": 60,
      "outputs": []
    },
    {
      "cell_type": "code",
      "source": [
        "#first in this we want to mesure this stastical classes like.. mean ,median ,etc..\n",
        "\n",
        "statistics=numerical.describe()  # describe is used to described the statistical functions\n",
        "print(statistics)"
      ],
      "metadata": {
        "colab": {
          "base_uri": "https://localhost:8080/"
        },
        "id": "XYZIxpmApxcE",
        "outputId": "76f9ca77-d906-4ea8-f9bb-080695b69d4e"
      },
      "execution_count": 63,
      "outputs": [
        {
          "output_type": "stream",
          "name": "stdout",
          "text": [
            "       Restaurant ID  Country Code    Longitude     Latitude  \\\n",
            "count   9.542000e+03   9542.000000  9542.000000  9542.000000   \n",
            "mean    9.043301e+06     18.179208    64.274997    25.848532   \n",
            "std     8.791967e+06     56.451600    41.197602    11.010094   \n",
            "min     5.300000e+01      1.000000  -157.948486   -41.330428   \n",
            "25%     3.019312e+05      1.000000    77.081565    28.478658   \n",
            "50%     6.002726e+06      1.000000    77.192031    28.570444   \n",
            "75%     1.835260e+07      1.000000    77.282043    28.642711   \n",
            "max     1.850065e+07    216.000000   174.832089    55.976980   \n",
            "\n",
            "       Average Cost for two  Price range  Aggregate rating         Votes  \n",
            "count           9542.000000  9542.000000       9542.000000   9542.000000  \n",
            "mean            1200.326137     1.804968          2.665238    156.772060  \n",
            "std            16128.743876     0.905563          1.516588    430.203324  \n",
            "min                0.000000     1.000000          0.000000      0.000000  \n",
            "25%              250.000000     1.000000          2.500000      5.000000  \n",
            "50%              400.000000     2.000000          3.200000     31.000000  \n",
            "75%              700.000000     2.000000          3.700000    130.000000  \n",
            "max           800000.000000     4.000000          4.900000  10934.000000  \n"
          ]
        }
      ]
    },
    {
      "cell_type": "markdown",
      "source": [
        "# exploring the distribution of categorical variables like \"country code\",\"city\", and \"cuisines\""
      ],
      "metadata": {
        "id": "AAmHZHBPtAlV"
      }
    },
    {
      "cell_type": "code",
      "source": [
        "\n",
        "country_code=df[\"Country Code\"].value_counts()             #explore the distribution of country code\n",
        "print(country_code)\n"
      ],
      "metadata": {
        "colab": {
          "base_uri": "https://localhost:8080/"
        },
        "id": "W0_zyzT3p-4g",
        "outputId": "8ede128c-dad8-4ac3-b814-b43666524d00"
      },
      "execution_count": 65,
      "outputs": [
        {
          "output_type": "stream",
          "name": "stdout",
          "text": [
            "1      8652\n",
            "216     425\n",
            "215      80\n",
            "30       60\n",
            "214      60\n",
            "189      60\n",
            "148      40\n",
            "208      34\n",
            "14       24\n",
            "162      22\n",
            "94       21\n",
            "184      20\n",
            "166      20\n",
            "191      20\n",
            "37        4\n",
            "Name: Country Code, dtype: int64\n"
          ]
        }
      ]
    },
    {
      "cell_type": "code",
      "source": [
        "city=df[\"City\"].value_counts()             #explore the distribution of city\n",
        "print(city)"
      ],
      "metadata": {
        "colab": {
          "base_uri": "https://localhost:8080/"
        },
        "id": "KQJFAtBot9s2",
        "outputId": "265ad827-bb05-4226-fca9-08b2ddb9b719"
      },
      "execution_count": 67,
      "outputs": [
        {
          "output_type": "stream",
          "name": "stdout",
          "text": [
            "New Delhi         5473\n",
            "Gurgaon           1118\n",
            "Noida             1080\n",
            "Faridabad          251\n",
            "Ghaziabad           25\n",
            "                  ... \n",
            "Lincoln              1\n",
            "Lakeview             1\n",
            "Lakes Entrance       1\n",
            "Inverloch            1\n",
            "Panchkula            1\n",
            "Name: City, Length: 140, dtype: int64\n"
          ]
        }
      ]
    },
    {
      "cell_type": "code",
      "source": [
        "cuisi_nes=df[\"Cuisines\"].value_counts()             #explore the distribution of cuisines\n",
        "print(cuisi_nes)"
      ],
      "metadata": {
        "colab": {
          "base_uri": "https://localhost:8080/"
        },
        "id": "uvYepeoUt9z3",
        "outputId": "ed843a27-3747-4496-ee2c-514008bc74f4"
      },
      "execution_count": 68,
      "outputs": [
        {
          "output_type": "stream",
          "name": "stdout",
          "text": [
            "North Indian                                             936\n",
            "North Indian, Chinese                                    511\n",
            "Chinese                                                  354\n",
            "Fast Food                                                354\n",
            "North Indian, Mughlai                                    334\n",
            "                                                        ... \n",
            "Bengali, Fast Food                                         1\n",
            "North Indian, Rajasthani, Asian                            1\n",
            "Chinese, Thai, Malaysian, Indonesian                       1\n",
            "Bakery, Desserts, North Indian, Bengali, South Indian      1\n",
            "Italian, World Cuisine                                     1\n",
            "Name: Cuisines, Length: 1825, dtype: int64\n"
          ]
        }
      ]
    },
    {
      "cell_type": "markdown",
      "source": [
        "# identify the top cuisines and cities with the heighest number of restaurants"
      ],
      "metadata": {
        "id": "a2jEoo-HunvH"
      }
    },
    {
      "cell_type": "code",
      "source": [
        "print(\"TOP CITIES:\")            # TOP CITIES\n",
        "topcities=city.head(8)\n",
        "print(topcities)"
      ],
      "metadata": {
        "colab": {
          "base_uri": "https://localhost:8080/"
        },
        "id": "gjYuAp3NujjV",
        "outputId": "e50330f7-a487-4837-af16-12775e0b30c6"
      },
      "execution_count": 74,
      "outputs": [
        {
          "output_type": "stream",
          "name": "stdout",
          "text": [
            "TOP CITIES:\n",
            "New Delhi    5473\n",
            "Gurgaon      1118\n",
            "Noida        1080\n",
            "Faridabad     251\n",
            "Ghaziabad      25\n",
            "Ahmedabad      21\n",
            "Guwahati       21\n",
            "Amritsar       21\n",
            "Name: City, dtype: int64\n"
          ]
        }
      ]
    },
    {
      "cell_type": "code",
      "source": [
        "topcities.plot(kind=\"bar\")\n",
        "plt.title(\"TOP CITIES\")\n",
        "plt.xlabel(\"cities\")\n",
        "plt.ylabel(\"count\")\n",
        "plt.show()"
      ],
      "metadata": {
        "colab": {
          "base_uri": "https://localhost:8080/",
          "height": 542
        },
        "id": "qw-hxGFzxKA_",
        "outputId": "40bed6a4-e50d-4699-ea2a-019371282076"
      },
      "execution_count": 75,
      "outputs": [
        {
          "output_type": "display_data",
          "data": {
            "text/plain": [
              "<Figure size 640x480 with 1 Axes>"
            ],
            "image/png": "[encoded data removed]"
          },
          "metadata": {}
        }
      ]
    },
    {
      "cell_type": "markdown",
      "source": [
        "# TASK 3\n",
        "\n",
        "# GEOSPATIAL ANALYSIS\n"
      ],
      "metadata": {
        "id": "GxjUbubnwZ-R"
      }
    },
    {
      "cell_type": "markdown",
      "source": [
        "* Visualize the location of restaurants on a map using latitude and longitude information"
      ],
      "metadata": {
        "id": "56ZAZq0DyWf7"
      }
    },
    {
      "cell_type": "code",
      "source": [
        "import folium\n",
        "df =pd.read_csv(\"Dataset.csv\")"
      ],
      "metadata": {
        "id": "FPeUgPuvyLA0"
      },
      "execution_count": 76,
      "outputs": []
    },
    {
      "cell_type": "code",
      "source": [
        "import folium\n",
        "df =pd.read_csv(\"Dataset.csv\")\n",
        "\n",
        "restaurant_map =folium.Map(location=[df['Latitude'].mean(),df['Longitude'].mean()],zoom_start=6)\n",
        "\n",
        "for index, row in df.iterrows():\n",
        "\n",
        "    popup_text = f\"{row['Restaurant Name']} - Rating: {row['Votes']}\"\n",
        "    folium.Marker([row['Latitude'], row[\"Longitude\"]], popup=popup_text).add_to(restaurant_map)\n",
        "    folium.Marker(\n",
        "    location=[34.0522, -118.2437],\n",
        "    popup='Los Angeles',\n",
        "    icon=folium.Icon(color='blue')\n",
        ").add_to(restaurant_map)\n",
        "\n",
        "\n",
        "restaurant_map.save(\"restaurant_map.html\")"
      ],
      "metadata": {
        "id": "1kEWh3hYzhV8"
      },
      "execution_count": 115,
      "outputs": []
    },
    {
      "cell_type": "code",
      "source": [
        "city_distribution = df['City'].value_counts()\n",
        "print(city_distribution)"
      ],
      "metadata": {
        "colab": {
          "base_uri": "https://localhost:8080/"
        },
        "id": "DEmVQ9NZ38WZ",
        "outputId": "83332515-4a05-4375-c82c-acb7ff266232"
      },
      "execution_count": 117,
      "outputs": [
        {
          "output_type": "stream",
          "name": "stdout",
          "text": [
            "New Delhi           5473\n",
            "Gurgaon             1118\n",
            "Noida               1080\n",
            "Faridabad            251\n",
            "Ghaziabad             25\n",
            "                    ... \n",
            "Panchkula              1\n",
            "Mc Millan              1\n",
            "Mayfield               1\n",
            "Macedon                1\n",
            "Vineland Station       1\n",
            "Name: City, Length: 141, dtype: int64\n"
          ]
        }
      ]
    },
    {
      "cell_type": "markdown",
      "source": [],
      "metadata": {
        "id": "GhjoJmFe8Yen"
      }
    },
    {
      "cell_type": "code",
      "source": [
        "# Plot the distribution using a bar chart plt.bar(city distribution. index, city distribution.values)\n",
        "\n",
        "plt.xlabel(\"City\")\n",
        "\n",
        "plt.ylabel(\"Number of Restaurants\")\n",
        "\n",
        "plt.title('Restaurant Distribution across Cities')\n",
        "\n",
        "plt.xticks(rotation=45)\n",
        "plt.show()"
      ],
      "metadata": {
        "colab": {
          "base_uri": "https://localhost:8080/",
          "height": 483
        },
        "id": "eouQyviG4JUP",
        "outputId": "fc39066d-8349-43b8-fd88-cc5450165436"
      },
      "execution_count": 112,
      "outputs": [
        {
          "output_type": "display_data",
          "data": {
            "text/plain": [
              "<Figure size 640x480 with 1 Axes>"
            ],
            "image/png": "[encoded data removed]"
          },
          "metadata": {}
        }
      ]
    },
    {
      "cell_type": "code",
      "source": [
        "plt.xlabel(\"Longitude \")\n",
        "plt.scatter(df[\"Longitude\"], df[\"Latitude\"], s=df[ 'Votes'] *20, alpha=0.7)\n",
        "plt.ylabel(\"Latitude\")\n",
        "\n",
        "plt.title(\"Restaurant Locations and Ratings\")\n",
        "plt.show()"
      ],
      "metadata": {
        "colab": {
          "base_uri": "https://localhost:8080/",
          "height": 472
        },
        "id": "4XgtsaUh4XI5",
        "outputId": "763b09b3-540b-47fb-e3e5-a85d27a6adab"
      },
      "execution_count": 113,
      "outputs": [
        {
          "output_type": "display_data",
          "data": {
            "text/plain": [
              "<Figure size 640x480 with 1 Axes>"
            ],
            "image/png": "[encoded data removed]"
          },
          "metadata": {}
        }
      ]
    },
    {
      "cell_type": "code",
      "source": [],
      "metadata": {
        "id": "SH3OaonQzhby"
      },
      "execution_count": null,
      "outputs": []
    }
  ]
}